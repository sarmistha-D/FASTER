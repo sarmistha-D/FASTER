{
  "cells": [
    {
      "cell_type": "code",
      "execution_count": null,
      "id": "182a0c91-b99c-4e65-8ded-a176e9757948",
      "metadata": {
        "id": "182a0c91-b99c-4e65-8ded-a176e9757948"
      },
      "outputs": [],
      "source": [
        "import json"
      ]
    },
    {
      "cell_type": "code",
      "execution_count": null,
      "id": "3a0db284-a0f2-40fe-b593-7a25624943ee",
      "metadata": {
        "id": "3a0db284-a0f2-40fe-b593-7a25624943ee"
      },
      "outputs": [],
      "source": [
        "\n",
        "with open('eval_1.json', 'r') as json_file:\n",
        "    train_1 = json.load(json_file)\n",
        "\n",
        "with open('eval_2.json', 'r') as json_file:\n",
        "    train_2 = json.load(json_file)\n",
        "\n",
        "with open('eval_3.json', 'r') as json_file:\n",
        "    train_3 = json.load(json_file)\n",
        "\n",
        "import pandas as pd\n",
        "\n",
        "test_df = pd.read_csv(\"eval_bos.csv\")\n",
        "# with open(output_path, 'r') as json_file:\n",
        "#     train_1 = json.load(json_file)"
      ]
    },
    {
      "cell_type": "code",
      "execution_count": null,
      "id": "4f025e08-f090-4db3-9be4-06a27511baea",
      "metadata": {
        "id": "4f025e08-f090-4db3-9be4-06a27511baea"
      },
      "outputs": [],
      "source": [
        "full_data={}\n",
        "\n",
        "for idx,row in test_df.iterrows():\n",
        "    data = {\n",
        "        \"original_summary\":row['human_summaries'],\n",
        "        \"generated_summaries\":[train_1[row['video_ids']],train_2[row['video_ids']],train_3[row['video_ids']]]\n",
        "                               }\n",
        "    full_data[row['video_ids']] = data"
      ]
    },
    {
      "cell_type": "code",
      "execution_count": null,
      "id": "16bd9027-29e0-4d4c-bd5b-5d666be2406f",
      "metadata": {
        "scrolled": true,
        "colab": {
          "referenced_widgets": [
            "9bc297fa4f834802b1777f05c8aeb9af"
          ]
        },
        "id": "16bd9027-29e0-4d4c-bd5b-5d666be2406f",
        "outputId": "429ff767-3a93-4045-9b7f-1da579085870"
      },
      "outputs": [
        {
          "data": {
            "application/vnd.jupyter.widget-view+json": {
              "model_id": "9bc297fa4f834802b1777f05c8aeb9af",
              "version_major": 2,
              "version_minor": 0
            },
            "text/plain": [
              "  0%|          | 0/84 [00:00<?, ?it/s]"
            ]
          },
          "metadata": {},
          "output_type": "display_data"
        }
      ],
      "source": [
        "import openai\n",
        "\n",
        "# Initialize API key\n",
        "openai.api_key = \"Provide your key\"\n",
        "# # Inputs\n",
        "# original_summary = \"The discussion is about an interview with Michael Gayed, a portfolio manager and author. When asked about how he defines success, he mentions that it is best defined as an outcome where you don't regret your decisions. He emphasizes that success is not necessarily about money or the size of your company, but rather the absence of regret. When asked about his fund management style, he mentions the importance of diversification in his strategies and having a balanced portfolio to minimize concentration risk. He also emphasizes the importance of communication and having one-on-one conversations in a world of zeros and ones.\"\n",
        "# generated_summaries = [\n",
        "#     \"Michael Gayed, a fund manager, defines success as an outcome where one doesn't regret their decisions. He believes that success is more about regret than anything else and that it is defined in different ways for everyone. He also values diversification and having multiple funds with equal asset growth to avoid concentration risk. His goal is to have a smoother cash flow stream and to communicate with investors on a one-on-one basis.\",\n",
        "#     \"The discussion revolves around the concept of success and how it is defined differently for everyone. The speaker believes that success is more about not regretting the outcome, even if it is not necessarily about money or the size of a company. He also talks about the importance of diversification in the fund management world and how it can provide a smoother cash flow stream. The speaker mentions his Twitter handle and website for those interested in learning more about him and his funds.\",\n",
        "#     \"Michael Gayed, a fund manager, defines success as an outcome where one doesn't regret their decisions. He believes that success is more about regret than anything else and that it is defined in different ways for everyone. He also values diversification and having multiple funds with equal asset growth to avoid concentration risk. His goal is to have a smoother cash flow stream and to communicate with investors on a one-on-one basis.\",\n",
        "#     #\"Generated summary 4 text.\"\n",
        "# ]\n",
        "\n",
        "# Ranking function\n",
        "def rank_summaries_by_index(original_summary, generated_summaries):\n",
        "    # Create a consolidated prompt\n",
        "    prompt = f\"\"\"\n",
        "You are an expert in ranking generated summaries based on their alignment, relevance, and coherence to a given reference summary.If its not possible to rank them just check which summary is close to the original. I dont want exaplanation just ranking only.\n",
        "Original Summary:\n",
        "{original_summary}\n",
        "\n",
        "Generated Summaries:\n",
        "1. {generated_summaries[0]}\n",
        "2. {generated_summaries[1]}\n",
        "3. {generated_summaries[2]}\n",
        "\n",
        "Task:\n",
        "Rank the generated summaries from 1 (best) to 4 (worst) based on how well they align with the original summary.\n",
        "Output only the indices of the summaries in ranked order, separated by spaces.\n",
        "For example: \"2 3 1 4\" (best to worst).\n",
        "\"\"\"\n",
        "    # Call GPT\n",
        "    response = openai.ChatCompletion.create(\n",
        "        model=\"gpt-4\",  # Use GPT-4 for better reasoning\n",
        "        messages=[\n",
        "            {\"role\": \"system\", \"content\": \"You are a ranking and evaluation assistant.\"},\n",
        "            {\"role\": \"user\", \"content\": prompt},\n",
        "        ],\n",
        "    )\n",
        "    return response[\"choices\"][0][\"message\"][\"content\"].strip()\n",
        "\n",
        "# Rank the summaries\n",
        "# ans = {}\n",
        "from tqdm.notebook import tqdm\n",
        "for key in tqdm(full_data):\n",
        "    if key not in ans:\n",
        "\n",
        "        generated_summaries = full_data[key]['generated_summaries']\n",
        "        original_summary = full_data[key][ \"original_summary\"]\n",
        "\n",
        "\n",
        "        ranked_indices = rank_summaries_by_index(original_summary, generated_summaries)\n",
        "        ans[key]= ranked_indices\n",
        "    # elif key in selected_keys:\n",
        "    #     generated_summaries = full_data[key]['generated_summaries']\n",
        "    #     original_summary = full_data[key][ \"original_summary\"]\n",
        "\n",
        "\n",
        "    #     ranked_indices = rank_summaries_by_index(original_summary, generated_summaries)\n",
        "    #     ans[key]= ranked_indices\n",
        "\n",
        "# # Display the ranked indices\n",
        "# print(\"Ranked Indices (Best to Worst):\")\n",
        "# print(ranked_indices)\n"
      ]
    },
    {
      "cell_type": "code",
      "execution_count": null,
      "id": "3987fcc0-6781-48de-8be0-d0f00f76e560",
      "metadata": {
        "id": "3987fcc0-6781-48de-8be0-d0f00f76e560"
      },
      "outputs": [],
      "source": []
    },
    {
      "cell_type": "code",
      "execution_count": null,
      "id": "ca23e45e-450d-4ae5-bbd6-421f7faeeebf",
      "metadata": {
        "id": "ca23e45e-450d-4ae5-bbd6-421f7faeeebf"
      },
      "outputs": [],
      "source": []
    }
  ],
  "metadata": {
    "kernelspec": {
      "display_name": "Python SMOL",
      "language": "python",
      "name": "smol"
    },
    "language_info": {
      "codemirror_mode": {
        "name": "ipython",
        "version": 3
      },
      "file_extension": ".py",
      "mimetype": "text/x-python",
      "name": "python",
      "nbconvert_exporter": "python",
      "pygments_lexer": "ipython3",
      "version": "3.12.7"
    },
    "colab": {
      "provenance": []
    }
  },
  "nbformat": 4,
  "nbformat_minor": 5
}